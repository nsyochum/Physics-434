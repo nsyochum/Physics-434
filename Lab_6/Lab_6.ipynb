{
 "cells": [
  {
   "cell_type": "code",
   "execution_count": 1,
   "metadata": {},
   "outputs": [],
   "source": [
    "%matplotlib inline\n",
    "import matplotlib\n",
    "import matplotlib.pyplot as plt\n",
    "import scipy\n",
    "from scipy import stats\n",
    "from scipy.optimize import curve_fit as cv\n",
    "import numpy as np\n",
    "# import library\n",
    "import pickle"
   ]
  },
  {
   "cell_type": "code",
   "execution_count": 3,
   "metadata": {},
   "outputs": [
    {
     "name": "stdout",
     "output_type": "stream",
     "text": [
      "Index(['pt', 'eta', 'phi', 'mass', 'ee2', 'ee3', 'd2', 'angularity', 't1',\n",
      "       't2', 't3', 't21', 't32', 'KtDeltaR'],\n",
      "      dtype='object')\n"
     ]
    },
    {
     "data": {
      "text/plain": [
       "Index(['pt', 'eta', 'phi', 'mass', 'ee2', 'ee3', 'd2', 'angularity', 't1',\n",
       "       't2', 't3', 't21', 't32', 'KtDeltaR'],\n",
       "      dtype='object')"
      ]
     },
     "execution_count": 3,
     "metadata": {},
     "output_type": "execute_result"
    }
   ],
   "source": [
    "# open the file of interest, and use pickle loading\n",
    "infile = open (\"Sample_pt_250_500/qcd_100000_pt_250_500.pkl\",'rb')\n",
    "qcd_data = pickle.load(infile)\n",
    "higgs_data = pickle.load(open (\"Sample_pt_250_500/higgs_100000_pt_250_500.pkl\",'rb'))\n",
    "\n",
    "# list all keys of the files\n",
    "print(qcd_data.keys())\n",
    "higgs_data.keys()"
   ]
  },
  {
   "cell_type": "code",
   "execution_count": 4,
   "metadata": {},
   "outputs": [],
   "source": [
    "def histograms(var, name, units):\n",
    "    plt.rcParams[\"figure.figsize\"] = (40,50)  \n",
    "    fig, ax = plt.subplots(2, 2)\n",
    "    # Higgs data | log Higgs\n",
    "    # ----------------------\n",
    "    # QCD data  | log QCD\n",
    "    higgs_hist = ax[0, 0]\n",
    "    higgs_log = ax[0, 1]\n",
    "    qcd_hist = ax[1, 0]\n",
    "    qcd_log = ax[1, 1]\n",
    "\n",
    "\n",
    "    a = higgs_hist.hist(higgs_data.get(var), density = True, bins = 50, alpha = 0.6)\n",
    "    higgs_hist.set_title(name + ' for Higgs data set')\n",
    "    higgs_hist.set_xlabel(name + units)\n",
    "    higgs_hist.set_ylabel('frequency')\n",
    "\n",
    "    b = higgs_log.hist(higgs_data.get(var), density = True, bins = 50, alpha = 0.8)\n",
    "    higgs_log.set_title('Log of ' + name + ' for Higgs data set')\n",
    "    higgs_log.set_yscale('log')\n",
    "    higgs_log.set_xlabel(name + units)\n",
    "    higgs_log.set_ylabel('log(frequency)')\n",
    "\n",
    "    c = qcd_hist.hist(qcd_data.get(var), density = True, bins = 50, color = 'r', alpha = 0.6)\n",
    "    qcd_hist.set_title(name + ' for QCD data set')\n",
    "    qcd_hist.set_xlabel(name + units)\n",
    "    qcd_hist.set_ylabel('frequency')\n",
    "\n",
    "    d = qcd_log.hist(qcd_data.get(var), density = True, bins = 50, color = 'r', alpha = 0.8)\n",
    "    qcd_log.set_title('Log of ' + name + ' for QCD data set')\n",
    "    qcd_log.set_yscale('log')\n",
    "    qcd_log.set_xlabel(name + units)\n",
    "    qcd_log.set_ylabel('log(frequency)')\n",
    "    \n",
    "    for plot in [higgs_hist, higgs_log, qcd_hist, qcd_log]:\n",
    "        plot.title.set_fontsize(48)\n",
    "        for item in ([plot.xaxis.label, plot.yaxis.label] + plot.get_xticklabels() + plot.get_yticklabels()):\n",
    "            item.set_fontsize(36)"
   ]
  },
  {
   "cell_type": "markdown",
   "metadata": {},
   "source": [
    "# Lab 6\n",
    "> For the LHC data, we are going to have to fake a background. Make a Poisson background with mean 100. "
   ]
  },
  {
   "cell_type": "code",
   "execution_count": 73,
   "metadata": {},
   "outputs": [],
   "source": [
    "poisson_background = stats.poisson.rvs(mu=100, size = 10000)"
   ]
  },
  {
   "cell_type": "markdown",
   "metadata": {},
   "source": [
    "## Problem 1\n",
    "> The first problem is to look at your background distribution and determine where the $5\\sigma$ sensitivity threshold is."
   ]
  },
  {
   "cell_type": "code",
   "execution_count": 74,
   "metadata": {},
   "outputs": [
    {
     "name": "stdout",
     "output_type": "stream",
     "text": [
      "5-sigma cut off:  154.0\n"
     ]
    }
   ],
   "source": [
    "# first, find the probability corrosponding to 5 sigma\n",
    "five_sigma_prob = stats.norm.cdf(5)\n",
    "# calculate where that cutoff falls in our background\n",
    "cut_off = stats.poisson.ppf(five_sigma_prob, 100)\n",
    "print('5-sigma cut off: ',cut_off)"
   ]
  },
  {
   "cell_type": "markdown",
   "metadata": {},
   "source": [
    "## Problem 2\n",
    "> Now create a set of injected (simulated) signals of a single strength. You will want to make your signal moderately strong, say somewhere in the 8-30 $5\\sigma$ range. Inject this signal into your background data many times.\n",
    "\n",
    "I'm going to create a signal of strength $8 \\sigma$ and add 100 samples of this to my background."
   ]
  },
  {
   "cell_type": "code",
   "execution_count": 75,
   "metadata": {},
   "outputs": [
    {
     "name": "stdout",
     "output_type": "stream",
     "text": [
      "20-sigma cut off:  190.0\n"
     ]
    }
   ],
   "source": [
    "twenty_sigma_prob = stats.norm.cdf(8)\n",
    "twenty_sigma_value = stats.poisson.ppf(twenty_sigma_prob, 100)\n",
    "print('20-sigma cut off: ',twenty_sigma_value)\n",
    "\n",
    "one_signal = poisson_background.copy()\n",
    "\n",
    "for times in range(100):\n",
    "    one_signal = np.append(one_signal, twenty_sigma_value)"
   ]
  },
  {
   "cell_type": "markdown",
   "metadata": {},
   "source": [
    "> a) Histogram how bright the observed signal appears to be, and discuss it's shape. Say in words what this histogram is telling you."
   ]
  },
  {
   "cell_type": "code",
   "execution_count": 76,
   "metadata": {},
   "outputs": [
    {
     "data": {
      "image/png": "[encoded data removed]",
      "text/plain": [
       "<Figure size 1440x720 with 2 Axes>"
      ]
     },
     "metadata": {
      "needs_background": "light"
     },
     "output_type": "display_data"
    }
   ],
   "source": [
    "plt.rcParams[\"figure.figsize\"] = (20,10)  \n",
    "fig, ax = plt.subplots(1, 2)\n",
    "\n",
    "\n",
    "hist = ax[0].hist(one_signal, density=True, bins = 27)\n",
    "log_hist = ax[1].hist(one_signal, density=True, bins = 27)\n",
    "ax[1].set_yscale('log')"
   ]
  },
  {
   "cell_type": "markdown",
   "metadata": {},
   "source": [
    "When the $\\mu$ for a Poisson distribution is high, it tends to look like a normal distribution.  What we can see from this histogram is that there is an extreme outlier to the right of the distribution.\n",
    "\n",
    "> b) Is your observed signal biased? (e.g. is the observed value equally likely to be stronger or weaker than the true injected signal?) Is it symmetric?\n",
    "\n",
    "Yes, the observed signal is biased because it is much more likely to observe a value less than our signal than greater than our signal.  It is not symmetric via the same logic.\n",
    "\n",
    "## Problem 3\n",
    "\n",
    "> Now make a suite of injected signals. You will want to have a range of injected signal strengths, starting at zero and extending well above $5 \\sigma$ ($30 \\sigma$ or more).\n",
    "\n",
    "> a) Clearly state what you are simulating, and make a 2D histogram of injected signal vs. observed signal"
   ]
  },
  {
   "cell_type": "code",
   "execution_count": 2,
   "metadata": {},
   "outputs": [
    {
     "data": {
      "image/png": "[encoded data removed]",
      "text/plain": [
       "<Figure size 720x720 with 1 Axes>"
      ]
     },
     "metadata": {
      "needs_background": "light"
     },
     "output_type": "display_data"
    }
   ],
   "source": [
    "injected_signals = range(0, 1000)\n",
    "\n",
    "x = []\n",
    "y = []\n",
    "\n",
    "for signal in injected_signals:\n",
    "    for times in range(1000):\n",
    "        x.append(stats.poisson.rvs(mu=100) + signal)\n",
    "        y.append(signal)\n",
    "\n",
    "plt.rcParams[\"figure.figsize\"] = (10,10)  \n",
    "fig, ax = plt.subplots(1, 1)\n",
    "\n",
    "hist = ax.hist2d(x, y,bins=100)"
   ]
  },
  {
   "cell_type": "code",
   "execution_count": null,
   "metadata": {},
   "outputs": [],
   "source": []
  }
 ],
 "metadata": {
  "kernelspec": {
   "display_name": "Python 3",
   "language": "python",
   "name": "python3"
  },
  "language_info": {
   "codemirror_mode": {
    "name": "ipython",
    "version": 3
   },
   "file_extension": ".py",
   "mimetype": "text/x-python",
   "name": "python",
   "nbconvert_exporter": "python",
   "pygments_lexer": "ipython3",
   "version": "3.7.3"
  }
 },
 "nbformat": 4,
 "nbformat_minor": 4
}
