{
 "cells": [
  {
   "cell_type": "code",
   "execution_count": 1,
   "metadata": {},
   "outputs": [],
   "source": [
    "%matplotlib inline\n",
    "import matplotlib\n",
    "import matplotlib.pyplot as plt\n",
    "import scipy\n",
    "from scipy import stats\n",
    "from scipy.optimize import curve_fit as cv\n",
    "import numpy as np\n",
    "import pickle"
   ]
  },
  {
   "cell_type": "markdown",
   "metadata": {},
   "source": [
    "# Labs 7 and 8"
   ]
  },
  {
   "cell_type": "code",
   "execution_count": 3,
   "metadata": {},
   "outputs": [
    {
     "name": "stdout",
     "output_type": "stream",
     "text": [
      "Index(['pt', 'eta', 'phi', 'mass', 'ee2', 'ee3', 'd2', 'angularity', 't1',\n",
      "       't2', 't3', 't21', 't32', 'KtDeltaR'],\n",
      "      dtype='object')\n"
     ]
    }
   ],
   "source": [
    "# open the file of interest, and use pickle loading\n",
    "infile = open (\"Sample_pt_250_500/qcd_100000_pt_250_500.pkl\",'rb')\n",
    "qcd_data = pickle.load(infile)\n",
    "higgs_data = pickle.load(open (\"Sample_pt_250_500/higgs_100000_pt_250_500.pkl\",'rb'))\n",
    "\n",
    "# list all keys of the files\n",
    "print(qcd_data.keys())"
   ]
  },
  {
   "cell_type": "code",
   "execution_count": 4,
   "metadata": {},
   "outputs": [],
   "source": [
    "\n",
    "def histograms(var, name, units):\n",
    "    plt.rcParams[\"figure.figsize\"] = (40,50)  \n",
    "    fig, ax = plt.subplots(2, 2)\n",
    "    # Higgs data | log Higgs\n",
    "    # ----------------------\n",
    "    # QCD data  | log QCD\n",
    "    higgs_hist = ax[0, 0]\n",
    "    higgs_log = ax[0, 1]\n",
    "    qcd_hist = ax[1, 0]\n",
    "    qcd_log = ax[1, 1]\n",
    "\n",
    "\n",
    "    a = higgs_hist.hist(higgs_data.get(var), density = True, bins = 50, alpha = 0.6)\n",
    "    higgs_hist.set_title(name + ' for Higgs data set')\n",
    "    higgs_hist.set_xlabel(name + units)\n",
    "    higgs_hist.set_ylabel('frequency')\n",
    "\n",
    "    b = higgs_log.hist(higgs_data.get(var), density = True, bins = 50, alpha = 0.8)\n",
    "    higgs_log.set_title('Log of ' + name + ' for Higgs data set')\n",
    "    higgs_log.set_yscale('log')\n",
    "    higgs_log.set_xlabel(name + units)\n",
    "    higgs_log.set_ylabel('log(frequency)')\n",
    "\n",
    "    c = qcd_hist.hist(qcd_data.get(var), density = True, bins = 50, color = 'r', alpha = 0.6)\n",
    "    qcd_hist.set_title(name + ' for QCD data set')\n",
    "    qcd_hist.set_xlabel(name + units)\n",
    "    qcd_hist.set_ylabel('frequency')\n",
    "\n",
    "    d = qcd_log.hist(qcd_data.get(var), density = True, bins = 50, color = 'r', alpha = 0.8)\n",
    "    qcd_log.set_title('Log of ' + name + ' for QCD data set')\n",
    "    qcd_log.set_yscale('log')\n",
    "    qcd_log.set_xlabel(name + units)\n",
    "    qcd_log.set_ylabel('log(frequency)')\n",
    "    \n",
    "    for plot in [higgs_hist, higgs_log, qcd_hist, qcd_log]:\n",
    "        plot.title.set_fontsize(48)\n",
    "        for item in ([plot.xaxis.label, plot.yaxis.label] + plot.get_xticklabels() + plot.get_yticklabels()):\n",
    "            item.set_fontsize(36)"
   ]
  },
  {
   "cell_type": "markdown",
   "metadata": {},
   "source": [
    "To begin this lab, I will make a stacked histogram plot for the mass "
   ]
  },
  {
   "cell_type": "code",
   "execution_count": 14,
   "metadata": {},
   "outputs": [
    {
     "data": {
      "image/png": "[encoded data removed]",
      "text/plain": [
       "<Figure size 1080x720 with 2 Axes>"
      ]
     },
     "metadata": {
      "needs_background": "light"
     },
     "output_type": "display_data"
    }
   ],
   "source": [
    "plt.rcParams[\"figure.figsize\"] = (15,10)  \n",
    "fig, ax = plt.subplots(1, 2)\n",
    "\n",
    "ax[0].hist(qcd_data.get('mass'), color = 'red', alpha=0.5, label = 'QCD data', bins = 27)\n",
    "ax[0].hist(higgs_data.get('mass'), alpha=0.5, label='Higgs data', bins = 27)\n",
    "ax[1].hist(qcd_data.get('mass'), color = 'red', alpha=0.5, label = 'QCD data', bins = 27)\n",
    "ax[1].hist(higgs_data.get('mass'), alpha=0.5, label='Higgs data', bins = 27)\n",
    "\n",
    "ax[0].set_title('Histograms of Higgs mass with QCD mass')\n",
    "ax[0].set_ylabel('Counts')\n",
    "ax[0].set_xlabel(r'Rest Mass $\\frac{GeV}{C}$')\n",
    "ax[0].legend()\n",
    "\n",
    "ax[1].set_title('Histograms of Higgs mass with QCD mass')\n",
    "ax[1].set_ylabel('log[Counts]')\n",
    "ax[1].set_xlabel(r'Rest Mass $\\frac{GeV}{C}$')\n",
    "ax[1].legend()\n",
    "ax[1].set_yscale('log')"
   ]
  },
  {
   "cell_type": "code",
   "execution_count": 24,
   "metadata": {},
   "outputs": [
    {
     "name": "stdout",
     "output_type": "stream",
     "text": [
      "Significance: \t 0.23847212190687442\n",
      "Ratio:         \t 0.7071067811865475\n"
     ]
    }
   ],
   "source": [
    "background_count = 20000 # given in dataset\n",
    "total_count = background_count + 100 # given in dataset\n",
    "\n",
    "prob = stats.poisson.sf(total_count, mu=background_count)\n",
    "\n",
    "print('Significance: \\t',prob)\n",
    "\n",
    "special_ratio = (100) / (20000**0.5)\n",
    "\n",
    "print('Ratio:         \\t', special_ratio)"
   ]
  },
  {
   "cell_type": "markdown",
   "metadata": {},
   "source": [
    "The ratio of $\\frac{N_{Higgs}}{\\sqrt{N_{QCD}}}$ represents the ratio of the number of Higgs particles in our data set vs the standard deviation of the QCD background.  If this number is smaller than one, then the number of Higgs is inside of the standard deviation of the background, which is the case here.\n",
    "\n",
    "For the QCD backgound, I only got a significance of 23.8%, which means that about a quarter of the time, I'd expect a number of events equal to the number I detected or higher.\n",
    "\n",
    "To approach the problem of doing cuts to increase my significance, I must first weight the two distributions."
   ]
  },
  {
   "cell_type": "code",
   "execution_count": 28,
   "metadata": {},
   "outputs": [
    {
     "name": "stdout",
     "output_type": "stream",
     "text": [
      "Weight Higgs:\t 1000.0\n",
      "Weight QCD:\t 5.0\n"
     ]
    }
   ],
   "source": [
    "weight_higgs = higgs_data.get('mass').size / 100\n",
    "weight_qcd = qcd_data.get('mass').size / 20000\n",
    "print('Weight Higgs:\\t',weight_higgs)\n",
    "print('Weight QCD:\\t',weight_qcd)"
   ]
  },
  {
   "cell_type": "markdown",
   "metadata": {},
   "source": [
    "What this means is that 1000 Higgs counts in my data set corrospond to one Higgs detection and every 5 QCD counts in my data set corrospond to one QCD detection.  I can know cut the background to maximize my significance."
   ]
  },
  {
   "cell_type": "code",
   "execution_count": 69,
   "metadata": {},
   "outputs": [
    {
     "name": "stdout",
     "output_type": "stream",
     "text": [
      "Min Cut Level:\t 119.3\n",
      "Max Cut Level:\t 129.0\n",
      "Significance:\t 0.009418115498960086\n",
      "Higgs Counts:\t 73\n",
      "QCD Counts:\t 975\n"
     ]
    }
   ],
   "source": [
    "cut_level = 0\n",
    "minimum_cut_level = 0\n",
    "minimum_cut_sig = 1\n",
    "significance = 1\n",
    "five_sigma = stats.norm.sf(5)\n",
    "\n",
    "while significance > five_sigma:\n",
    "    cut_level += 0.1\n",
    "    higgs_count = np.count_nonzero(higgs_data.get('mass') > cut_level) / weight_higgs\n",
    "    qcd_count = np.count_nonzero(qcd_data.get('mass') > cut_level) / weight_qcd \n",
    "    significance = stats.poisson.sf(higgs_count + qcd_count, mu=qcd_count)\n",
    "    \n",
    "    if significance < minimum_cut_sig and higgs_count > 0.0 and qcd_count > 0.0:\n",
    "        minimum_cut_sig = significance\n",
    "        minimum_cut_level = cut_level\n",
    "\n",
    "        \n",
    "max_cut_level = 0\n",
    "max_cut_sig = 1\n",
    "cut_level = int(qcd_data.get('mass').max())\n",
    "significance = 1\n",
    "while significance > five_sigma:\n",
    "    cut_level -= 0.1\n",
    "    higgs_count = np.count_nonzero((higgs_data.get('mass') > minimum_cut_level) & (higgs_data.get('mass') < cut_level)) / weight_higgs\n",
    "    qcd_count = np.count_nonzero((qcd_data.get('mass') > minimum_cut_level) & (qcd_data.get('mass') < cut_level)) / weight_qcd\n",
    "    significance = stats.poisson.sf(higgs_count + qcd_count, mu=qcd_count)\n",
    "    \n",
    "    if significance < max_cut_sig and higgs_count > 0.0 and qcd_count > 0.0:\n",
    "        max_cut_level = cut_level\n",
    "        max_cut_sig = significance\n",
    "  \n",
    "\n",
    "higgs_count = np.count_nonzero((higgs_data.get('mass') > minimum_cut_level) & (higgs_data.get('mass') < max_cut_level)) / weight_higgs\n",
    "qcd_count = np.count_nonzero((qcd_data.get('mass') > minimum_cut_level) & (qcd_data.get('mass') < max_cut_level)) / weight_qcd\n",
    "significance = stats.poisson.sf(higgs_count + qcd_count, mu=qcd_count)\n",
    "print('Min Cut Level:\\t', np.round(minimum_cut_level, decimals=2))\n",
    "print('Max Cut Level:\\t', np.round(max_cut_level, decimals=2))\n",
    "print('Significance:\\t', significance)\n",
    "print('Higgs Counts:\\t',int(higgs_count))\n",
    "print('QCD Counts:\\t',int(qcd_count) )"
   ]
  },
  {
   "cell_type": "markdown",
   "metadata": {},
   "source": [
    "Note, it is actually impossible to get a $5\\sigma$ significance on the mass because you start cutting out too much signal"
   ]
  },
  {
   "cell_type": "code",
   "execution_count": null,
   "metadata": {},
   "outputs": [],
   "source": []
  }
 ],
 "metadata": {
  "kernelspec": {
   "display_name": "Python 3",
   "language": "python",
   "name": "python3"
  },
  "language_info": {
   "codemirror_mode": {
    "name": "ipython",
    "version": 3
   },
   "file_extension": ".py",
   "mimetype": "text/x-python",
   "name": "python",
   "nbconvert_exporter": "python",
   "pygments_lexer": "ipython3",
   "version": "3.7.3"
  }
 },
 "nbformat": 4,
 "nbformat_minor": 4
}
