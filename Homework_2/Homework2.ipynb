{
 "cells": [
  {
   "cell_type": "markdown",
   "metadata": {},
   "source": [
    "## 1) A little introductory brain teaser. Which is more probable when rolling 2 six-sided dice: rolling snake eyes (two ones) or rolling sevens (dice sum to seven)? What is the ratio of the probabilities?"
   ]
  },
  {
   "cell_type": "markdown",
   "metadata": {},
   "source": [
    "It is much more likely to roll sevens than snake eyes.  Out of the 36 possible outcomes for rolling two dice, only one of them results in snake eyes.  There are 6 outcomes that give sevens (1, 6; 2, 5; 3, 4; 4, 3; 5, 2; 6, 1).  This means the ratio of probabilities is 1:6."
   ]
  },
  {
   "cell_type": "markdown",
   "metadata": {},
   "source": [
    "## 2) Following what we did in class show how to use the convolution operator to determine the probability of the sum of 2 six sided dice. Do both analytically (math & counting) and numerically (computer program). Beware the implicit definition of the values (x-axis on histogram)."
   ]
  },
  {
   "cell_type": "markdown",
   "metadata": {},
   "source": [
    "**Analytically:**  \n",
    "  \n",
    "x | Probability | Combinations  \n",
    "-- | -- | --  \n",
    "2 | 1/36 | (1,1)  \n",
    "3 | 1/18 | (1,2) ; (2,1)  \n",
    "4 | 1/12 | (1,3) ; (2,2) ; (3,1)  \n",
    "5 | 1/9 | (1,4) ; (2,3) ; (3,2) ; (4,1)  \n",
    "6 | 5/36 | (1,5) ; (2,4) ; (3,3) ; (4,2) ; (5,1)  \n",
    "7 | 1/6 | (1,6) ; (2,5) ; (3,4) ; (4,3) ; (5,2) ; (6,1)  \n",
    "8 | 5/36 | (2,6) ; (3,5) ; (4,4) ; (5,3) ; (6,2)  \n",
    "9 | 1/9 | (3,6) ; (4,5) ; (5,4) ; (6,3)  \n",
    "10 | 1/12 | (4,6) ; (5,5) ; (6,4)\n",
    "11 | 1/18 | (5,6) ; (6,5)  \n",
    "12 | 1/36 | (6,6)  \n",
    "\n",
    "  \n",
    "From class:  \n",
    "    $P_{A+B}(x) = \\sum_z (P_A(z)*P_B(x-z))$  \n",
    "    "
   ]
  },
  {
   "cell_type": "code",
   "execution_count": 4,
   "metadata": {},
   "outputs": [
    {
     "ename": "TypeError",
     "evalue": "can only concatenate str (not \"int\") to str",
     "output_type": "error",
     "traceback": [
      "\u001b[0;31m---------------------------------------------------------------------------\u001b[0m",
      "\u001b[0;31mTypeError\u001b[0m                                 Traceback (most recent call last)",
      "\u001b[0;32m<ipython-input-4-b6ec3e36f706>\u001b[0m in \u001b[0;36m<module>\u001b[0;34m\u001b[0m\n\u001b[1;32m      1\u001b[0m \u001b[0;32mfor\u001b[0m \u001b[0mn\u001b[0m \u001b[0;32min\u001b[0m \u001b[0mrange\u001b[0m\u001b[0;34m(\u001b[0m\u001b[0;36m12\u001b[0m\u001b[0;34m)\u001b[0m\u001b[0;34m:\u001b[0m\u001b[0;34m\u001b[0m\u001b[0;34m\u001b[0m\u001b[0m\n\u001b[0;32m----> 2\u001b[0;31m     \u001b[0mprint\u001b[0m\u001b[0;34m(\u001b[0m\u001b[0;34m\"P(\"\u001b[0m \u001b[0;34m+\u001b[0m \u001b[0mn\u001b[0m \u001b[0;34m+\u001b[0m \u001b[0;34m\"): \"\u001b[0m\u001b[0;34m)\u001b[0m\u001b[0;34m\u001b[0m\u001b[0;34m\u001b[0m\u001b[0m\n\u001b[0m\u001b[1;32m      3\u001b[0m \u001b[0;34m\u001b[0m\u001b[0m\n",
      "\u001b[0;31mTypeError\u001b[0m: can only concatenate str (not \"int\") to str"
     ]
    }
   ],
   "source": [
    "for n in range(12):\n",
    "    print(\"P(\" + n + \"): \")\n",
    "    "
   ]
  },
  {
   "cell_type": "code",
   "execution_count": null,
   "metadata": {},
   "outputs": [],
   "source": []
  },
  {
   "cell_type": "code",
   "execution_count": null,
   "metadata": {},
   "outputs": [],
   "source": []
  },
  {
   "cell_type": "code",
   "execution_count": null,
   "metadata": {},
   "outputs": [],
   "source": []
  },
  {
   "cell_type": "code",
   "execution_count": null,
   "metadata": {},
   "outputs": [],
   "source": []
  }
 ],
 "metadata": {
  "kernelspec": {
   "display_name": "Python 3",
   "language": "python",
   "name": "python3"
  },
  "language_info": {
   "codemirror_mode": {
    "name": "ipython",
    "version": 3
   },
   "file_extension": ".py",
   "mimetype": "text/x-python",
   "name": "python",
   "nbconvert_exporter": "python",
   "pygments_lexer": "ipython3",
   "version": "3.7.3"
  }
 },
 "nbformat": 4,
 "nbformat_minor": 2
}
